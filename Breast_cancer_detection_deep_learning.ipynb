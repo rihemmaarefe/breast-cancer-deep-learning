{
  "nbformat": 4,
  "nbformat_minor": 0,
  "metadata": {
    "colab": {
      "name": "Breast_cancer_detection_deep_learning",
      "provenance": [],
      "collapsed_sections": [],
      "authorship_tag": "ABX9TyPCyYAs3+X4RUCRseiAJjjM",
      "include_colab_link": true
    },
    "kernelspec": {
      "name": "python3",
      "display_name": "Python 3"
    },
    "language_info": {
      "name": "python"
    }
  },
  "cells": [
    {
      "cell_type": "markdown",
      "metadata": {
        "id": "view-in-github",
        "colab_type": "text"
      },
      "source": [
        "<a href=\"https://colab.research.google.com/github/rihemmaarefe/breast-cancer-deep-learning/blob/main/Breast_cancer_detection_deep_learning.ipynb\" target=\"_parent\"><img src=\"https://colab.research.google.com/assets/colab-badge.svg\" alt=\"Open In Colab\"/></a>"
      ]
    },
    {
      "cell_type": "code",
      "source": [
        "from google.colab import drive\n",
        "drive.mount('/content/drive')"
      ],
      "metadata": {
        "colab": {
          "base_uri": "https://localhost:8080/"
        },
        "id": "jWuRM8ZPfBXU",
        "outputId": "f3d9d4bc-3fc4-4788-ac08-b1a3ee9826ca"
      },
      "execution_count": null,
      "outputs": [
        {
          "output_type": "stream",
          "name": "stdout",
          "text": [
            "Drive already mounted at /content/drive; to attempt to forcibly remount, call drive.mount(\"/content/drive\", force_remount=True).\n"
          ]
        }
      ]
    },
    {
      "cell_type": "code",
      "source": [
        "import pandas as pd\n",
        "from matplotlib import pyplot as plt\n",
        "import seaborn as sns\n",
        "import numpy as np\n",
        "from keras.models import Sequential\n",
        "from keras.layers import Dense, Activation, Dropout\n",
        "import pickle\n",
        "\n",
        "df = pd.read_csv(\"/content/drive/MyDrive/deepLearning/wisc_bc_data.csv\")"
      ],
      "metadata": {
        "id": "fI_CES8dfE_C"
      },
      "execution_count": null,
      "outputs": []
    },
    {
      "cell_type": "code",
      "source": [
        "#Rename Dataset to Label to make it easy to understand\n",
        "df = df.rename(columns={'diagnosis':'Label'})\n",
        "print(df.dtypes)"
      ],
      "metadata": {
        "colab": {
          "base_uri": "https://localhost:8080/"
        },
        "id": "vvl32V9mfMhS",
        "outputId": "16836dc7-7dc6-488d-c836-2a2d198d8b44"
      },
      "execution_count": null,
      "outputs": [
        {
          "output_type": "stream",
          "name": "stdout",
          "text": [
            "id                     int64\n",
            "Label                 object\n",
            "radius_mean          float64\n",
            "texture_mean         float64\n",
            "perimeter_mean       float64\n",
            "area_mean            float64\n",
            "smoothness_mean      float64\n",
            "compactness_mean     float64\n",
            "concavity_mean       float64\n",
            "points_mean          float64\n",
            "symmetry_mean        float64\n",
            "dimension_mean       float64\n",
            "radius_se            float64\n",
            "texture_se           float64\n",
            "perimeter_se         float64\n",
            "area_se              float64\n",
            "smoothness_se        float64\n",
            "compactness_se       float64\n",
            "concavity_se         float64\n",
            "points_se            float64\n",
            "symmetry_se          float64\n",
            "dimension_se         float64\n",
            "radius_worst         float64\n",
            "texture_worst        float64\n",
            "perimeter_worst      float64\n",
            "area_worst           float64\n",
            "smoothness_worst     float64\n",
            "compactness_worst    float64\n",
            "concavity_worst      float64\n",
            "points_worst         float64\n",
            "symmetry_worst       float64\n",
            "dimension_worst      float64\n",
            "dtype: object\n"
          ]
        }
      ]
    },
    {
      "cell_type": "code",
      "source": [
        "#Understand the data \n",
        "sns.countplot(x=\"Label\", data=df) #M - malignant   B - benign"
      ],
      "metadata": {
        "colab": {
          "base_uri": "https://localhost:8080/",
          "height": 623
        },
        "id": "wUtAarTdfONB",
        "outputId": "72ef6ddc-c9a1-4500-a8a7-1768d2aea298"
      },
      "execution_count": null,
      "outputs": [
        {
          "output_type": "execute_result",
          "data": {
            "text/plain": [
              "<matplotlib.axes._subplots.AxesSubplot at 0x7f9b0dcff590>"
            ]
          },
          "metadata": {},
          "execution_count": 84
        },
        {
          "output_type": "display_data",
          "data": {
            "image/png": "[encoded data removed]",
            "text/plain": [
              "<Figure size 576x720 with 1 Axes>"
            ]
          },
          "metadata": {
            "needs_background": "light"
          }
        }
      ]
    },
    {
      "cell_type": "code",
      "metadata": {
        "id": "sHf0pr6mZ-sS",
        "colab": {
          "base_uri": "https://localhost:8080/"
        },
        "outputId": "6c7ea43e-467f-466f-f972-cc0d70b38175"
      },
      "source": [
        "# Replace categorical values with numbers\n",
        "print(\"Distribution of data: \", df['Label'].value_counts())\n",
        "\n",
        "#Define the dependent variable that needs to be predicted (labels)\n",
        "y = df[\"Label\"].values\n",
        "print(\"Labels before encoding are: \", np.unique(y))\n",
        "\n",
        "# Encoding categorical data from text (B and M) to integers (0 and 1)\n",
        "from sklearn.preprocessing import LabelEncoder\n",
        "labelencoder = LabelEncoder()\n",
        "Y = labelencoder.fit_transform(y) # M=1 and B=0\n",
        "print(\"Labels after encoding are: \", np.unique(Y))"
      ],
      "execution_count": null,
      "outputs": [
        {
          "output_type": "stream",
          "name": "stdout",
          "text": [
            "Distribution of data:  B    357\n",
            "M    212\n",
            "Name: Label, dtype: int64\n",
            "Labels before encoding are:  ['B' 'M']\n",
            "Labels after encoding are:  [0 1]\n"
          ]
        }
      ]
    },
    {
      "cell_type": "code",
      "metadata": {
        "id": "k4yc60BVajj9",
        "colab": {
          "base_uri": "https://localhost:8080/"
        },
        "outputId": "428b85ba-1775-4c56-e07b-b7344e6df0f0"
      },
      "source": [
        "#Define x and normalize / scale values\n",
        "\n",
        "#Define the independent variables. Drop label and ID, and normalize other data\n",
        "X = df.drop(labels = [\"Label\", \"id\"], axis=1) \n",
        "print(X.describe().T) #Needs scaling\n",
        "\n",
        "x = X"
      ],
      "execution_count": null,
      "outputs": [
        {
          "output_type": "stream",
          "name": "stdout",
          "text": [
            "                   count        mean  ...          75%         max\n",
            "radius_mean        569.0   14.127292  ...    15.780000    28.11000\n",
            "texture_mean       569.0   19.289649  ...    21.800000    39.28000\n",
            "perimeter_mean     569.0   91.969033  ...   104.100000   188.50000\n",
            "area_mean          569.0  654.889104  ...   782.700000  2501.00000\n",
            "smoothness_mean    569.0    0.096360  ...     0.105300     0.16340\n",
            "compactness_mean   569.0    0.104341  ...     0.130400     0.34540\n",
            "concavity_mean     569.0    0.088799  ...     0.130700     0.42680\n",
            "points_mean        569.0    0.048919  ...     0.074000     0.20120\n",
            "symmetry_mean      569.0    0.181162  ...     0.195700     0.30400\n",
            "dimension_mean     569.0    0.062798  ...     0.066120     0.09744\n",
            "radius_se          569.0    0.405172  ...     0.478900     2.87300\n",
            "texture_se         569.0    1.216853  ...     1.474000     4.88500\n",
            "perimeter_se       569.0    2.866059  ...     3.357000    21.98000\n",
            "area_se            569.0   40.337079  ...    45.190000   542.20000\n",
            "smoothness_se      569.0    0.007041  ...     0.008146     0.03113\n",
            "compactness_se     569.0    0.025478  ...     0.032450     0.13540\n",
            "concavity_se       569.0    0.031894  ...     0.042050     0.39600\n",
            "points_se          569.0    0.011796  ...     0.014710     0.05279\n",
            "symmetry_se        569.0    0.020542  ...     0.023480     0.07895\n",
            "dimension_se       569.0    0.003795  ...     0.004558     0.02984\n",
            "radius_worst       569.0   16.269190  ...    18.790000    36.04000\n",
            "texture_worst      569.0   25.677223  ...    29.720000    49.54000\n",
            "perimeter_worst    569.0  107.261213  ...   125.400000   251.20000\n",
            "area_worst         569.0  880.583128  ...  1084.000000  4254.00000\n",
            "smoothness_worst   569.0    0.132369  ...     0.146000     0.22260\n",
            "compactness_worst  569.0    0.254265  ...     0.339100     1.05800\n",
            "concavity_worst    569.0    0.272188  ...     0.382900     1.25200\n",
            "points_worst       569.0    0.114606  ...     0.161400     0.29100\n",
            "symmetry_worst     569.0    0.290076  ...     0.317900     0.66380\n",
            "dimension_worst    569.0    0.083946  ...     0.092080     0.20750\n",
            "\n",
            "[30 rows x 8 columns]\n"
          ]
        }
      ]
    },
    {
      "cell_type": "code",
      "source": [
        "from sklearn.linear_model import Lasso\n",
        "from sklearn.linear_model import LassoCV\n",
        "reg = LassoCV()\n",
        "reg.fit(x, Y)\n",
        "print(\"Best alpha using built-in LassoCV: %f\" % reg.alpha_)\n",
        "print(\"Best score using built-in LassoCV: %f\" %reg.score(x,Y))"
      ],
      "metadata": {
        "id": "hAEw08pLialr",
        "colab": {
          "base_uri": "https://localhost:8080/"
        },
        "outputId": "d366a1ef-daf4-4e4e-f6d0-21692552ef93"
      },
      "execution_count": null,
      "outputs": [
        {
          "output_type": "stream",
          "name": "stdout",
          "text": [
            "Best alpha using built-in LassoCV: 0.201830\n",
            "Best score using built-in LassoCV: 0.661795\n"
          ]
        }
      ]
    },
    {
      "cell_type": "code",
      "source": [
        "coef = pd.Series(reg.coef_, index = X.columns)"
      ],
      "metadata": {
        "id": "GZX0doaYikrC"
      },
      "execution_count": null,
      "outputs": []
    },
    {
      "cell_type": "code",
      "metadata": {
        "colab": {
          "base_uri": "https://localhost:8080/"
        },
        "id": "IFVtqnTHbCS9",
        "outputId": "6e9b77ba-700e-419e-d6c8-99638a9b389e"
      },
      "source": [
        "#Scale / normalize the values to bring them to similar range\n",
        "from sklearn.preprocessing import MinMaxScaler\n",
        "scaler = MinMaxScaler()\n",
        "scaler.fit(X)\n",
        "X = scaler.transform(X)\n",
        "print(X)  #Scaled values"
      ],
      "execution_count": null,
      "outputs": [
        {
          "output_type": "stream",
          "name": "stdout",
          "text": [
            "[[0.25268588 0.0906324  0.24227766 ... 0.32271478 0.24876799 0.08310376]\n",
            " [0.17128118 0.31247886 0.17614539 ... 0.27237113 0.27104278 0.136626  ]\n",
            " [0.19210564 0.24078458 0.18747841 ... 0.25536082 0.28247585 0.15590975]\n",
            " ...\n",
            " [0.3927777  0.42948935 0.38096883 ... 0.42130584 0.31736645 0.27994228]\n",
            " [0.35728146 0.14440311 0.34600235 ... 0.36735395 0.20520402 0.15125279]\n",
            " [0.68100715 0.18227934 0.67383042 ... 0.67560137 0.22964715 0.20739866]]\n"
          ]
        }
      ]
    },
    {
      "cell_type": "code",
      "source": [
        "print(\"Lasso picked \" + str(sum(coef != 0)) + \" variables and eliminated the other \" +  str(sum(coef == 0)) + \" variables\")"
      ],
      "metadata": {
        "id": "hnMTnJfpjG7E",
        "colab": {
          "base_uri": "https://localhost:8080/"
        },
        "outputId": "57c37602-2455-474c-a829-b16c013f1298"
      },
      "execution_count": null,
      "outputs": [
        {
          "output_type": "stream",
          "name": "stdout",
          "text": [
            "Lasso picked 4 variables and eliminated the other 26 variables\n"
          ]
        }
      ]
    },
    {
      "cell_type": "code",
      "source": [
        "imp_coef = coef.sort_values()\n",
        "import matplotlib\n",
        "matplotlib.rcParams['figure.figsize'] = (8.0, 10.0)\n",
        "imp_coef.plot(kind = \"barh\")\n",
        "plt.title(\"Feature importance using Lasso Model\")"
      ],
      "metadata": {
        "id": "h8ZhYgC6jI7i",
        "colab": {
          "base_uri": "https://localhost:8080/",
          "height": 624
        },
        "outputId": "b7a770d3-b083-4ef1-e895-9d1023d8d47f"
      },
      "execution_count": null,
      "outputs": [
        {
          "output_type": "execute_result",
          "data": {
            "text/plain": [
              "Text(0.5, 1.0, 'Feature importance using Lasso Model')"
            ]
          },
          "metadata": {},
          "execution_count": 91
        },
        {
          "output_type": "display_data",
          "data": {
            "image/png": "[encoded data removed]",
            "text/plain": [
              "<Figure size 576x720 with 1 Axes>"
            ]
          },
          "metadata": {
            "needs_background": "light"
          }
        }
      ]
    },
    {
      "cell_type": "code",
      "source": [
        "dff = pd.DataFrame(df, columns=['perimeter_worst', 'texture_worst', 'area_worst', 'area_mean','Label'])\n",
        "dff.to_csv('dff')\n",
        "dff"
      ],
      "metadata": {
        "id": "75Lpesx6jL4i",
        "colab": {
          "base_uri": "https://localhost:8080/",
          "height": 424
        },
        "outputId": "a07656db-cd2a-498f-b381-0294b78ab3c9"
      },
      "execution_count": null,
      "outputs": [
        {
          "output_type": "execute_result",
          "data": {
            "text/html": [
              "\n",
              "  <div id=\"df-65c39595-73a6-4ed5-a45a-d4579365596b\">\n",
              "    <div class=\"colab-df-container\">\n",
              "      <div>\n",
              "<style scoped>\n",
              "    .dataframe tbody tr th:only-of-type {\n",
              "        vertical-align: middle;\n",
              "    }\n",
              "\n",
              "    .dataframe tbody tr th {\n",
              "        vertical-align: top;\n",
              "    }\n",
              "\n",
              "    .dataframe thead th {\n",
              "        text-align: right;\n",
              "    }\n",
              "</style>\n",
              "<table border=\"1\" class=\"dataframe\">\n",
              "  <thead>\n",
              "    <tr style=\"text-align: right;\">\n",
              "      <th></th>\n",
              "      <th>perimeter_worst</th>\n",
              "      <th>texture_worst</th>\n",
              "      <th>area_worst</th>\n",
              "      <th>area_mean</th>\n",
              "      <th>Label</th>\n",
              "    </tr>\n",
              "  </thead>\n",
              "  <tbody>\n",
              "    <tr>\n",
              "      <th>0</th>\n",
              "      <td>86.97</td>\n",
              "      <td>15.64</td>\n",
              "      <td>549.1</td>\n",
              "      <td>464.1</td>\n",
              "      <td>B</td>\n",
              "    </tr>\n",
              "    <tr>\n",
              "      <th>1</th>\n",
              "      <td>78.28</td>\n",
              "      <td>22.94</td>\n",
              "      <td>424.8</td>\n",
              "      <td>346.4</td>\n",
              "      <td>B</td>\n",
              "    </tr>\n",
              "    <tr>\n",
              "      <th>2</th>\n",
              "      <td>79.93</td>\n",
              "      <td>26.44</td>\n",
              "      <td>471.4</td>\n",
              "      <td>373.2</td>\n",
              "      <td>B</td>\n",
              "    </tr>\n",
              "    <tr>\n",
              "      <th>3</th>\n",
              "      <td>76.53</td>\n",
              "      <td>15.77</td>\n",
              "      <td>434.0</td>\n",
              "      <td>384.8</td>\n",
              "      <td>B</td>\n",
              "    </tr>\n",
              "    <tr>\n",
              "      <th>4</th>\n",
              "      <td>104.50</td>\n",
              "      <td>15.73</td>\n",
              "      <td>819.1</td>\n",
              "      <td>711.8</td>\n",
              "      <td>B</td>\n",
              "    </tr>\n",
              "    <tr>\n",
              "      <th>...</th>\n",
              "      <td>...</td>\n",
              "      <td>...</td>\n",
              "      <td>...</td>\n",
              "      <td>...</td>\n",
              "      <td>...</td>\n",
              "    </tr>\n",
              "    <tr>\n",
              "      <th>564</th>\n",
              "      <td>95.10</td>\n",
              "      <td>23.89</td>\n",
              "      <td>687.6</td>\n",
              "      <td>537.3</td>\n",
              "      <td>B</td>\n",
              "    </tr>\n",
              "    <tr>\n",
              "      <th>565</th>\n",
              "      <td>70.89</td>\n",
              "      <td>19.48</td>\n",
              "      <td>357.1</td>\n",
              "      <td>321.6</td>\n",
              "      <td>B</td>\n",
              "    </tr>\n",
              "    <tr>\n",
              "      <th>566</th>\n",
              "      <td>113.80</td>\n",
              "      <td>28.03</td>\n",
              "      <td>973.1</td>\n",
              "      <td>710.6</td>\n",
              "      <td>M</td>\n",
              "    </tr>\n",
              "    <tr>\n",
              "      <th>567</th>\n",
              "      <td>103.10</td>\n",
              "      <td>16.93</td>\n",
              "      <td>749.9</td>\n",
              "      <td>644.2</td>\n",
              "      <td>B</td>\n",
              "    </tr>\n",
              "    <tr>\n",
              "      <th>568</th>\n",
              "      <td>152.10</td>\n",
              "      <td>21.84</td>\n",
              "      <td>1535.0</td>\n",
              "      <td>1386.0</td>\n",
              "      <td>M</td>\n",
              "    </tr>\n",
              "  </tbody>\n",
              "</table>\n",
              "<p>569 rows × 5 columns</p>\n",
              "</div>\n",
              "      <button class=\"colab-df-convert\" onclick=\"convertToInteractive('df-65c39595-73a6-4ed5-a45a-d4579365596b')\"\n",
              "              title=\"Convert this dataframe to an interactive table.\"\n",
              "              style=\"display:none;\">\n",
              "        \n",
              "  <svg xmlns=\"http://www.w3.org/2000/svg\" height=\"24px\"viewBox=\"0 0 24 24\"\n",
              "       width=\"24px\">\n",
              "    <path d=\"M0 0h24v24H0V0z\" fill=\"none\"/>\n",
              "    <path d=\"M18.56 5.44l.94 2.06.94-2.06 2.06-.94-2.06-.94-.94-2.06-.94 2.06-2.06.94zm-11 1L8.5 8.5l.94-2.06 2.06-.94-2.06-.94L8.5 2.5l-.94 2.06-2.06.94zm10 10l.94 2.06.94-2.06 2.06-.94-2.06-.94-.94-2.06-.94 2.06-2.06.94z\"/><path d=\"M17.41 7.96l-1.37-1.37c-.4-.4-.92-.59-1.43-.59-.52 0-1.04.2-1.43.59L10.3 9.45l-7.72 7.72c-.78.78-.78 2.05 0 2.83L4 21.41c.39.39.9.59 1.41.59.51 0 1.02-.2 1.41-.59l7.78-7.78 2.81-2.81c.8-.78.8-2.07 0-2.86zM5.41 20L4 18.59l7.72-7.72 1.47 1.35L5.41 20z\"/>\n",
              "  </svg>\n",
              "      </button>\n",
              "      \n",
              "  <style>\n",
              "    .colab-df-container {\n",
              "      display:flex;\n",
              "      flex-wrap:wrap;\n",
              "      gap: 12px;\n",
              "    }\n",
              "\n",
              "    .colab-df-convert {\n",
              "      background-color: #E8F0FE;\n",
              "      border: none;\n",
              "      border-radius: 50%;\n",
              "      cursor: pointer;\n",
              "      display: none;\n",
              "      fill: #1967D2;\n",
              "      height: 32px;\n",
              "      padding: 0 0 0 0;\n",
              "      width: 32px;\n",
              "    }\n",
              "\n",
              "    .colab-df-convert:hover {\n",
              "      background-color: #E2EBFA;\n",
              "      box-shadow: 0px 1px 2px rgba(60, 64, 67, 0.3), 0px 1px 3px 1px rgba(60, 64, 67, 0.15);\n",
              "      fill: #174EA6;\n",
              "    }\n",
              "\n",
              "    [theme=dark] .colab-df-convert {\n",
              "      background-color: #3B4455;\n",
              "      fill: #D2E3FC;\n",
              "    }\n",
              "\n",
              "    [theme=dark] .colab-df-convert:hover {\n",
              "      background-color: #434B5C;\n",
              "      box-shadow: 0px 1px 3px 1px rgba(0, 0, 0, 0.15);\n",
              "      filter: drop-shadow(0px 1px 2px rgba(0, 0, 0, 0.3));\n",
              "      fill: #FFFFFF;\n",
              "    }\n",
              "  </style>\n",
              "\n",
              "      <script>\n",
              "        const buttonEl =\n",
              "          document.querySelector('#df-65c39595-73a6-4ed5-a45a-d4579365596b button.colab-df-convert');\n",
              "        buttonEl.style.display =\n",
              "          google.colab.kernel.accessAllowed ? 'block' : 'none';\n",
              "\n",
              "        async function convertToInteractive(key) {\n",
              "          const element = document.querySelector('#df-65c39595-73a6-4ed5-a45a-d4579365596b');\n",
              "          const dataTable =\n",
              "            await google.colab.kernel.invokeFunction('convertToInteractive',\n",
              "                                                     [key], {});\n",
              "          if (!dataTable) return;\n",
              "\n",
              "          const docLinkHtml = 'Like what you see? Visit the ' +\n",
              "            '<a target=\"_blank\" href=https://colab.research.google.com/notebooks/data_table.ipynb>data table notebook</a>'\n",
              "            + ' to learn more about interactive tables.';\n",
              "          element.innerHTML = '';\n",
              "          dataTable['output_type'] = 'display_data';\n",
              "          await google.colab.output.renderOutput(dataTable, element);\n",
              "          const docLink = document.createElement('div');\n",
              "          docLink.innerHTML = docLinkHtml;\n",
              "          element.appendChild(docLink);\n",
              "        }\n",
              "      </script>\n",
              "    </div>\n",
              "  </div>\n",
              "  "
            ],
            "text/plain": [
              "     perimeter_worst  texture_worst  area_worst  area_mean Label\n",
              "0              86.97          15.64       549.1      464.1     B\n",
              "1              78.28          22.94       424.8      346.4     B\n",
              "2              79.93          26.44       471.4      373.2     B\n",
              "3              76.53          15.77       434.0      384.8     B\n",
              "4             104.50          15.73       819.1      711.8     B\n",
              "..               ...            ...         ...        ...   ...\n",
              "564            95.10          23.89       687.6      537.3     B\n",
              "565            70.89          19.48       357.1      321.6     B\n",
              "566           113.80          28.03       973.1      710.6     M\n",
              "567           103.10          16.93       749.9      644.2     B\n",
              "568           152.10          21.84      1535.0     1386.0     M\n",
              "\n",
              "[569 rows x 5 columns]"
            ]
          },
          "metadata": {},
          "execution_count": 125
        }
      ]
    },
    {
      "cell_type": "code",
      "source": [
        "# Replace categorical values with numbers\n",
        "print(\"Distribution of data: \", dff['Label'].value_counts())\n",
        "\n",
        "#Define the dependent variable that needs to be predicted (labels)\n",
        "yy = dff[\"Label\"].values\n",
        "print(\"Labels before encoding are: \", np.unique(yy))\n",
        "\n",
        "# Encoding categorical data from text (B and M) to integers (0 and 1)\n",
        "from sklearn.preprocessing import LabelEncoder\n",
        "labelencoder = LabelEncoder()\n",
        "Yy = labelencoder.fit_transform(yy) # M=1 and B=0\n",
        "print(\"Labels after encoding are: \", np.unique(Yy))"
      ],
      "metadata": {
        "colab": {
          "base_uri": "https://localhost:8080/"
        },
        "id": "0qXD-k5Wk7Vw",
        "outputId": "8818c75b-7077-4d7c-9ea3-cdb45bafb4c5"
      },
      "execution_count": null,
      "outputs": [
        {
          "output_type": "stream",
          "name": "stdout",
          "text": [
            "Distribution of data:  B    357\n",
            "M    212\n",
            "Name: Label, dtype: int64\n",
            "Labels before encoding are:  ['B' 'M']\n",
            "Labels after encoding are:  [0 1]\n"
          ]
        }
      ]
    },
    {
      "cell_type": "code",
      "source": [
        "#Define x and normalize / scale values\n",
        "\n",
        "#Define the independent variables. Drop label and ID, and normalize other data\n",
        "Xx = dff.drop(labels = [\"Label\"], axis=1) \n",
        "print(Xx.describe().T) #Needs scaling\n"
      ],
      "metadata": {
        "colab": {
          "base_uri": "https://localhost:8080/"
        },
        "id": "slANLqUDlN-7",
        "outputId": "3d05feb6-7d10-45bb-8ea4-e27d59e0770e"
      },
      "execution_count": null,
      "outputs": [
        {
          "output_type": "stream",
          "name": "stdout",
          "text": [
            "                 count        mean         std  ...     50%      75%      max\n",
            "perimeter_worst  569.0  107.261213   33.602542  ...   97.66   125.40   251.20\n",
            "texture_worst    569.0   25.677223    6.146258  ...   25.41    29.72    49.54\n",
            "area_worst       569.0  880.583128  569.356993  ...  686.50  1084.00  4254.00\n",
            "area_mean        569.0  654.889104  351.914129  ...  551.10   782.70  2501.00\n",
            "\n",
            "[4 rows x 8 columns]\n"
          ]
        }
      ]
    },
    {
      "cell_type": "code",
      "source": [
        "#Split data into train and test to verify accuracy after fitting the model. \n",
        "from sklearn.model_selection import train_test_split\n",
        "X_train, X_test, y_train, y_test = train_test_split(Xx, Yy, test_size=0.25, random_state=42)\n",
        "print(\"Shape of training data is: \", X_train.shape)\n",
        "print(\"Shape of testing data is: \", X_test.shape)"
      ],
      "metadata": {
        "colab": {
          "base_uri": "https://localhost:8080/"
        },
        "id": "MbEWHXQ7lWlq",
        "outputId": "cdc13502-2180-41c9-afd5-d9745f8b5661"
      },
      "execution_count": null,
      "outputs": [
        {
          "output_type": "stream",
          "name": "stdout",
          "text": [
            "Shape of training data is:  (426, 4)\n",
            "Shape of testing data is:  (143, 4)\n"
          ]
        }
      ]
    },
    {
      "cell_type": "code",
      "source": [
        "from keras.models import Sequential\n",
        "from keras.layers import Dense, Activation, Dropout\n",
        "import pickle\n",
        "\n",
        "model = Sequential()\n",
        "model.add(Dense(16, input_dim=4, activation='relu')) \n",
        "model.add(Dropout(0.2))\n",
        "model.add(Dense(1)) \n",
        "model.add(Activation('sigmoid')) \n",
        " \n",
        "model.compile(loss='binary_crossentropy', optimizer='adam', metrics=['accuracy'])\n",
        "print(model.summary())\n",
        "\n",
        "# model.save('/content/classifier.pkl')\n",
        "model.save('drive/MyDrive/my_model/model.pkl') \n",
        "\n",
        "pkl_filename = 'sequ_model.pkl'\n",
        "with open(pkl_filename, 'wb') as f:\n",
        "    pickle.dump(model, f)"
      ],
      "metadata": {
        "colab": {
          "base_uri": "https://localhost:8080/"
        },
        "id": "tsOXNYHolflK",
        "outputId": "38f1cebe-7255-4f5b-8556-4a1c147761a4"
      },
      "execution_count": null,
      "outputs": [
        {
          "output_type": "stream",
          "name": "stdout",
          "text": [
            "Model: \"sequential_7\"\n",
            "_________________________________________________________________\n",
            " Layer (type)                Output Shape              Param #   \n",
            "=================================================================\n",
            " dense_14 (Dense)            (None, 16)                80        \n",
            "                                                                 \n",
            " dropout_7 (Dropout)         (None, 16)                0         \n",
            "                                                                 \n",
            " dense_15 (Dense)            (None, 1)                 17        \n",
            "                                                                 \n",
            " activation_7 (Activation)   (None, 1)                 0         \n",
            "                                                                 \n",
            "=================================================================\n",
            "Total params: 97\n",
            "Trainable params: 97\n",
            "Non-trainable params: 0\n",
            "_________________________________________________________________\n",
            "None\n",
            "INFO:tensorflow:Assets written to: drive/MyDrive/my_model/model.pkl/assets\n",
            "INFO:tensorflow:Assets written to: ram://b40d3b8d-d7b7-40be-9891-e29740074bf0/assets\n"
          ]
        }
      ]
    },
    {
      "cell_type": "code",
      "source": [
        "#Fit with no early stopping or other callbacks\n",
        "history = model.fit(X_train, y_train, verbose=1, epochs=100, batch_size=64, validation_data=(X_test, y_test))"
      ],
      "metadata": {
        "colab": {
          "base_uri": "https://localhost:8080/"
        },
        "id": "iC-KUZUElkNa",
        "outputId": "3be171f8-e45d-427a-c261-31ce57974dd8"
      },
      "execution_count": null,
      "outputs": [
        {
          "output_type": "stream",
          "name": "stdout",
          "text": [
            "Epoch 1/100\n",
            "7/7 [==============================] - 1s 30ms/step - loss: 204.4547 - accuracy: 0.5258 - val_loss: 151.7182 - val_accuracy: 0.6434\n",
            "Epoch 2/100\n",
            "7/7 [==============================] - 0s 9ms/step - loss: 174.6137 - accuracy: 0.5070 - val_loss: 120.9281 - val_accuracy: 0.6434\n",
            "Epoch 3/100\n",
            "7/7 [==============================] - 0s 6ms/step - loss: 148.0956 - accuracy: 0.5164 - val_loss: 91.5062 - val_accuracy: 0.6434\n",
            "Epoch 4/100\n",
            "7/7 [==============================] - 0s 9ms/step - loss: 139.2280 - accuracy: 0.5329 - val_loss: 63.1488 - val_accuracy: 0.6503\n",
            "Epoch 5/100\n",
            "7/7 [==============================] - 0s 5ms/step - loss: 116.2369 - accuracy: 0.5023 - val_loss: 41.8550 - val_accuracy: 0.3357\n",
            "Epoch 6/100\n",
            "7/7 [==============================] - 0s 5ms/step - loss: 113.2195 - accuracy: 0.3826 - val_loss: 33.8508 - val_accuracy: 0.0490\n",
            "Epoch 7/100\n",
            "7/7 [==============================] - 0s 5ms/step - loss: 98.1533 - accuracy: 0.4437 - val_loss: 31.9013 - val_accuracy: 0.0909\n",
            "Epoch 8/100\n",
            "7/7 [==============================] - 0s 6ms/step - loss: 127.0111 - accuracy: 0.3615 - val_loss: 31.1745 - val_accuracy: 0.0839\n",
            "Epoch 9/100\n",
            "7/7 [==============================] - 0s 5ms/step - loss: 128.0117 - accuracy: 0.3850 - val_loss: 30.5831 - val_accuracy: 0.0839\n",
            "Epoch 10/100\n",
            "7/7 [==============================] - 0s 9ms/step - loss: 130.6676 - accuracy: 0.3638 - val_loss: 29.6700 - val_accuracy: 0.0839\n",
            "Epoch 11/100\n",
            "7/7 [==============================] - 0s 5ms/step - loss: 97.2101 - accuracy: 0.3732 - val_loss: 28.3136 - val_accuracy: 0.0839\n",
            "Epoch 12/100\n",
            "7/7 [==============================] - 0s 7ms/step - loss: 98.6117 - accuracy: 0.4085 - val_loss: 27.2558 - val_accuracy: 0.0839\n",
            "Epoch 13/100\n",
            "7/7 [==============================] - 0s 6ms/step - loss: 114.9759 - accuracy: 0.4085 - val_loss: 25.7493 - val_accuracy: 0.0839\n",
            "Epoch 14/100\n",
            "7/7 [==============================] - 0s 8ms/step - loss: 97.1972 - accuracy: 0.3991 - val_loss: 23.6851 - val_accuracy: 0.1049\n",
            "Epoch 15/100\n",
            "7/7 [==============================] - 0s 5ms/step - loss: 88.2211 - accuracy: 0.4085 - val_loss: 21.7133 - val_accuracy: 0.1678\n",
            "Epoch 16/100\n",
            "7/7 [==============================] - 0s 5ms/step - loss: 93.4153 - accuracy: 0.4061 - val_loss: 19.7865 - val_accuracy: 0.1888\n",
            "Epoch 17/100\n",
            "7/7 [==============================] - 0s 8ms/step - loss: 84.0393 - accuracy: 0.4319 - val_loss: 17.3473 - val_accuracy: 0.1818\n",
            "Epoch 18/100\n",
            "7/7 [==============================] - 0s 5ms/step - loss: 100.6122 - accuracy: 0.4225 - val_loss: 14.7821 - val_accuracy: 0.1748\n",
            "Epoch 19/100\n",
            "7/7 [==============================] - 0s 6ms/step - loss: 71.9707 - accuracy: 0.4765 - val_loss: 12.5895 - val_accuracy: 0.1818\n",
            "Epoch 20/100\n",
            "7/7 [==============================] - 0s 7ms/step - loss: 97.9321 - accuracy: 0.3920 - val_loss: 10.6056 - val_accuracy: 0.2448\n",
            "Epoch 21/100\n",
            "7/7 [==============================] - 0s 6ms/step - loss: 83.5519 - accuracy: 0.4131 - val_loss: 9.0301 - val_accuracy: 0.2727\n",
            "Epoch 22/100\n",
            "7/7 [==============================] - 0s 6ms/step - loss: 93.4773 - accuracy: 0.4413 - val_loss: 7.7256 - val_accuracy: 0.3007\n",
            "Epoch 23/100\n",
            "7/7 [==============================] - 0s 6ms/step - loss: 78.9520 - accuracy: 0.5047 - val_loss: 6.8162 - val_accuracy: 0.3636\n",
            "Epoch 24/100\n",
            "7/7 [==============================] - 0s 6ms/step - loss: 85.5013 - accuracy: 0.5235 - val_loss: 6.1895 - val_accuracy: 0.3497\n",
            "Epoch 25/100\n",
            "7/7 [==============================] - 0s 6ms/step - loss: 61.7942 - accuracy: 0.5282 - val_loss: 5.4910 - val_accuracy: 0.4266\n",
            "Epoch 26/100\n",
            "7/7 [==============================] - 0s 9ms/step - loss: 73.1054 - accuracy: 0.4577 - val_loss: 5.0152 - val_accuracy: 0.4266\n",
            "Epoch 27/100\n",
            "7/7 [==============================] - 0s 6ms/step - loss: 66.3721 - accuracy: 0.4671 - val_loss: 4.9772 - val_accuracy: 0.3776\n",
            "Epoch 28/100\n",
            "7/7 [==============================] - 0s 5ms/step - loss: 72.2271 - accuracy: 0.4554 - val_loss: 4.2089 - val_accuracy: 0.4615\n",
            "Epoch 29/100\n",
            "7/7 [==============================] - 0s 7ms/step - loss: 65.7351 - accuracy: 0.4718 - val_loss: 3.6875 - val_accuracy: 0.5315\n",
            "Epoch 30/100\n",
            "7/7 [==============================] - 0s 6ms/step - loss: 59.8689 - accuracy: 0.4977 - val_loss: 3.6165 - val_accuracy: 0.5035\n",
            "Epoch 31/100\n",
            "7/7 [==============================] - 0s 9ms/step - loss: 62.9228 - accuracy: 0.4859 - val_loss: 4.2349 - val_accuracy: 0.4056\n",
            "Epoch 32/100\n",
            "7/7 [==============================] - 0s 6ms/step - loss: 73.4131 - accuracy: 0.4812 - val_loss: 2.9120 - val_accuracy: 0.5804\n",
            "Epoch 33/100\n",
            "7/7 [==============================] - 0s 6ms/step - loss: 60.7944 - accuracy: 0.5305 - val_loss: 2.4535 - val_accuracy: 0.6573\n",
            "Epoch 34/100\n",
            "7/7 [==============================] - 0s 8ms/step - loss: 50.6596 - accuracy: 0.6009 - val_loss: 2.8561 - val_accuracy: 0.5455\n",
            "Epoch 35/100\n",
            "7/7 [==============================] - 0s 6ms/step - loss: 63.9996 - accuracy: 0.5023 - val_loss: 2.6527 - val_accuracy: 0.5804\n",
            "Epoch 36/100\n",
            "7/7 [==============================] - 0s 6ms/step - loss: 54.1010 - accuracy: 0.5258 - val_loss: 1.9004 - val_accuracy: 0.7832\n",
            "Epoch 37/100\n",
            "7/7 [==============================] - 0s 5ms/step - loss: 55.4306 - accuracy: 0.5634 - val_loss: 1.8037 - val_accuracy: 0.8182\n",
            "Epoch 38/100\n",
            "7/7 [==============================] - 0s 9ms/step - loss: 41.0986 - accuracy: 0.6174 - val_loss: 2.1050 - val_accuracy: 0.6364\n",
            "Epoch 39/100\n",
            "7/7 [==============================] - 0s 9ms/step - loss: 69.0516 - accuracy: 0.5610 - val_loss: 3.0968 - val_accuracy: 0.5105\n",
            "Epoch 40/100\n",
            "7/7 [==============================] - 0s 6ms/step - loss: 62.2921 - accuracy: 0.4930 - val_loss: 2.3518 - val_accuracy: 0.6014\n",
            "Epoch 41/100\n",
            "7/7 [==============================] - 0s 7ms/step - loss: 52.6058 - accuracy: 0.5305 - val_loss: 1.3692 - val_accuracy: 0.8392\n",
            "Epoch 42/100\n",
            "7/7 [==============================] - 0s 8ms/step - loss: 50.2237 - accuracy: 0.5610 - val_loss: 1.3258 - val_accuracy: 0.8741\n",
            "Epoch 43/100\n",
            "7/7 [==============================] - 0s 6ms/step - loss: 50.8317 - accuracy: 0.5634 - val_loss: 1.8836 - val_accuracy: 0.6364\n",
            "Epoch 44/100\n",
            "7/7 [==============================] - 0s 6ms/step - loss: 47.4946 - accuracy: 0.5282 - val_loss: 2.2149 - val_accuracy: 0.6084\n",
            "Epoch 45/100\n",
            "7/7 [==============================] - 0s 6ms/step - loss: 51.8964 - accuracy: 0.5023 - val_loss: 1.8950 - val_accuracy: 0.6434\n",
            "Epoch 46/100\n",
            "7/7 [==============================] - 0s 6ms/step - loss: 51.3340 - accuracy: 0.5211 - val_loss: 1.8929 - val_accuracy: 0.6364\n",
            "Epoch 47/100\n",
            "7/7 [==============================] - 0s 7ms/step - loss: 47.0739 - accuracy: 0.5423 - val_loss: 1.2694 - val_accuracy: 0.7832\n",
            "Epoch 48/100\n",
            "7/7 [==============================] - 0s 6ms/step - loss: 42.1028 - accuracy: 0.5587 - val_loss: 1.2406 - val_accuracy: 0.7762\n",
            "Epoch 49/100\n",
            "7/7 [==============================] - 0s 6ms/step - loss: 42.2717 - accuracy: 0.5610 - val_loss: 1.0871 - val_accuracy: 0.8182\n",
            "Epoch 50/100\n",
            "7/7 [==============================] - 0s 6ms/step - loss: 34.1458 - accuracy: 0.6080 - val_loss: 0.8652 - val_accuracy: 0.8881\n",
            "Epoch 51/100\n",
            "7/7 [==============================] - 0s 5ms/step - loss: 42.5722 - accuracy: 0.5751 - val_loss: 0.8592 - val_accuracy: 0.8881\n",
            "Epoch 52/100\n",
            "7/7 [==============================] - 0s 9ms/step - loss: 38.1505 - accuracy: 0.6056 - val_loss: 1.0542 - val_accuracy: 0.7972\n",
            "Epoch 53/100\n",
            "7/7 [==============================] - 0s 6ms/step - loss: 39.7614 - accuracy: 0.5751 - val_loss: 0.8073 - val_accuracy: 0.8741\n",
            "Epoch 54/100\n",
            "7/7 [==============================] - 0s 5ms/step - loss: 42.6214 - accuracy: 0.5634 - val_loss: 0.9749 - val_accuracy: 0.8182\n",
            "Epoch 55/100\n",
            "7/7 [==============================] - 0s 11ms/step - loss: 31.3859 - accuracy: 0.5681 - val_loss: 1.0137 - val_accuracy: 0.7972\n",
            "Epoch 56/100\n",
            "7/7 [==============================] - 0s 5ms/step - loss: 38.8375 - accuracy: 0.5540 - val_loss: 0.7590 - val_accuracy: 0.8392\n",
            "Epoch 57/100\n",
            "7/7 [==============================] - 0s 6ms/step - loss: 35.9586 - accuracy: 0.5822 - val_loss: 0.8242 - val_accuracy: 0.8252\n",
            "Epoch 58/100\n",
            "7/7 [==============================] - 0s 8ms/step - loss: 42.7737 - accuracy: 0.5610 - val_loss: 0.7398 - val_accuracy: 0.8252\n",
            "Epoch 59/100\n",
            "7/7 [==============================] - 0s 6ms/step - loss: 41.2283 - accuracy: 0.5798 - val_loss: 0.6153 - val_accuracy: 0.8951\n",
            "Epoch 60/100\n",
            "7/7 [==============================] - 0s 6ms/step - loss: 37.6587 - accuracy: 0.5775 - val_loss: 0.5988 - val_accuracy: 0.8741\n",
            "Epoch 61/100\n",
            "7/7 [==============================] - 0s 9ms/step - loss: 34.3551 - accuracy: 0.5986 - val_loss: 0.5079 - val_accuracy: 0.8951\n",
            "Epoch 62/100\n",
            "7/7 [==============================] - 0s 9ms/step - loss: 31.1200 - accuracy: 0.6150 - val_loss: 0.7005 - val_accuracy: 0.8322\n",
            "Epoch 63/100\n",
            "7/7 [==============================] - 0s 6ms/step - loss: 29.4453 - accuracy: 0.5939 - val_loss: 0.6290 - val_accuracy: 0.8322\n",
            "Epoch 64/100\n",
            "7/7 [==============================] - 0s 9ms/step - loss: 33.2074 - accuracy: 0.6127 - val_loss: 0.8372 - val_accuracy: 0.8112\n",
            "Epoch 65/100\n",
            "7/7 [==============================] - 0s 6ms/step - loss: 26.8639 - accuracy: 0.6362 - val_loss: 0.8196 - val_accuracy: 0.8182\n",
            "Epoch 66/100\n",
            "7/7 [==============================] - 0s 5ms/step - loss: 27.3324 - accuracy: 0.5915 - val_loss: 0.3897 - val_accuracy: 0.8951\n",
            "Epoch 67/100\n",
            "7/7 [==============================] - 0s 6ms/step - loss: 26.6443 - accuracy: 0.6080 - val_loss: 0.3612 - val_accuracy: 0.9021\n",
            "Epoch 68/100\n",
            "7/7 [==============================] - 0s 6ms/step - loss: 31.0607 - accuracy: 0.5962 - val_loss: 0.5475 - val_accuracy: 0.8531\n",
            "Epoch 69/100\n",
            "7/7 [==============================] - 0s 8ms/step - loss: 29.0402 - accuracy: 0.5728 - val_loss: 0.9259 - val_accuracy: 0.7972\n",
            "Epoch 70/100\n",
            "7/7 [==============================] - 0s 6ms/step - loss: 27.9517 - accuracy: 0.5822 - val_loss: 1.0747 - val_accuracy: 0.7622\n",
            "Epoch 71/100\n",
            "7/7 [==============================] - 0s 9ms/step - loss: 25.8128 - accuracy: 0.6127 - val_loss: 0.8123 - val_accuracy: 0.8392\n",
            "Epoch 72/100\n",
            "7/7 [==============================] - 0s 6ms/step - loss: 22.9844 - accuracy: 0.6385 - val_loss: 0.4140 - val_accuracy: 0.8951\n",
            "Epoch 73/100\n",
            "7/7 [==============================] - 0s 6ms/step - loss: 22.8790 - accuracy: 0.6150 - val_loss: 0.3190 - val_accuracy: 0.9091\n",
            "Epoch 74/100\n",
            "7/7 [==============================] - 0s 9ms/step - loss: 24.3668 - accuracy: 0.6479 - val_loss: 0.7047 - val_accuracy: 0.8462\n",
            "Epoch 75/100\n",
            "7/7 [==============================] - 0s 8ms/step - loss: 21.3373 - accuracy: 0.6432 - val_loss: 1.4379 - val_accuracy: 0.7063\n",
            "Epoch 76/100\n",
            "7/7 [==============================] - 0s 6ms/step - loss: 19.3102 - accuracy: 0.5939 - val_loss: 0.4544 - val_accuracy: 0.8881\n",
            "Epoch 77/100\n",
            "7/7 [==============================] - 0s 9ms/step - loss: 18.9204 - accuracy: 0.6526 - val_loss: 0.2704 - val_accuracy: 0.9441\n",
            "Epoch 78/100\n",
            "7/7 [==============================] - 0s 6ms/step - loss: 19.6903 - accuracy: 0.6362 - val_loss: 0.2749 - val_accuracy: 0.9301\n",
            "Epoch 79/100\n",
            "7/7 [==============================] - 0s 6ms/step - loss: 16.6014 - accuracy: 0.6526 - val_loss: 0.4751 - val_accuracy: 0.8881\n",
            "Epoch 80/100\n",
            "7/7 [==============================] - 0s 6ms/step - loss: 19.1390 - accuracy: 0.6502 - val_loss: 0.8700 - val_accuracy: 0.8392\n",
            "Epoch 81/100\n",
            "7/7 [==============================] - 0s 10ms/step - loss: 19.4092 - accuracy: 0.6174 - val_loss: 1.0582 - val_accuracy: 0.7902\n",
            "Epoch 82/100\n",
            "7/7 [==============================] - 0s 6ms/step - loss: 19.9881 - accuracy: 0.6056 - val_loss: 0.5357 - val_accuracy: 0.8811\n",
            "Epoch 83/100\n",
            "7/7 [==============================] - 0s 6ms/step - loss: 22.0832 - accuracy: 0.5822 - val_loss: 0.4343 - val_accuracy: 0.8951\n",
            "Epoch 84/100\n",
            "7/7 [==============================] - 0s 9ms/step - loss: 16.2064 - accuracy: 0.6502 - val_loss: 0.6366 - val_accuracy: 0.8741\n",
            "Epoch 85/100\n",
            "7/7 [==============================] - 0s 9ms/step - loss: 18.5697 - accuracy: 0.6221 - val_loss: 0.5924 - val_accuracy: 0.8741\n",
            "Epoch 86/100\n",
            "7/7 [==============================] - 0s 8ms/step - loss: 14.8780 - accuracy: 0.6385 - val_loss: 0.8421 - val_accuracy: 0.8462\n",
            "Epoch 87/100\n",
            "7/7 [==============================] - 0s 6ms/step - loss: 13.2523 - accuracy: 0.6221 - val_loss: 0.6849 - val_accuracy: 0.8671\n",
            "Epoch 88/100\n",
            "7/7 [==============================] - 0s 6ms/step - loss: 17.5958 - accuracy: 0.6127 - val_loss: 0.4952 - val_accuracy: 0.8881\n",
            "Epoch 89/100\n",
            "7/7 [==============================] - 0s 6ms/step - loss: 13.3403 - accuracy: 0.6244 - val_loss: 0.3112 - val_accuracy: 0.9161\n",
            "Epoch 90/100\n",
            "7/7 [==============================] - 0s 5ms/step - loss: 14.5579 - accuracy: 0.6737 - val_loss: 0.4783 - val_accuracy: 0.8951\n",
            "Epoch 91/100\n",
            "7/7 [==============================] - 0s 9ms/step - loss: 12.8625 - accuracy: 0.6502 - val_loss: 0.6863 - val_accuracy: 0.8811\n",
            "Epoch 92/100\n",
            "7/7 [==============================] - 0s 9ms/step - loss: 13.5940 - accuracy: 0.6291 - val_loss: 0.4831 - val_accuracy: 0.8951\n",
            "Epoch 93/100\n",
            "7/7 [==============================] - 0s 5ms/step - loss: 10.4698 - accuracy: 0.6667 - val_loss: 0.3467 - val_accuracy: 0.9161\n",
            "Epoch 94/100\n",
            "7/7 [==============================] - 0s 7ms/step - loss: 12.0183 - accuracy: 0.6690 - val_loss: 0.3108 - val_accuracy: 0.9301\n",
            "Epoch 95/100\n",
            "7/7 [==============================] - 0s 10ms/step - loss: 10.7162 - accuracy: 0.6455 - val_loss: 0.3054 - val_accuracy: 0.9301\n",
            "Epoch 96/100\n",
            "7/7 [==============================] - 0s 9ms/step - loss: 12.5708 - accuracy: 0.6174 - val_loss: 0.3441 - val_accuracy: 0.9161\n",
            "Epoch 97/100\n",
            "7/7 [==============================] - 0s 9ms/step - loss: 9.7878 - accuracy: 0.6784 - val_loss: 0.4454 - val_accuracy: 0.9021\n",
            "Epoch 98/100\n",
            "7/7 [==============================] - 0s 6ms/step - loss: 10.1606 - accuracy: 0.6455 - val_loss: 0.4514 - val_accuracy: 0.9021\n",
            "Epoch 99/100\n",
            "7/7 [==============================] - 0s 6ms/step - loss: 8.3787 - accuracy: 0.6502 - val_loss: 0.4094 - val_accuracy: 0.9091\n",
            "Epoch 100/100\n",
            "7/7 [==============================] - 0s 6ms/step - loss: 9.1343 - accuracy: 0.6643 - val_loss: 0.3917 - val_accuracy: 0.9231\n"
          ]
        }
      ]
    },
    {
      "cell_type": "code",
      "source": [
        "# Predicting the Test set results\n",
        "y_pred = model.predict(X_test)\n",
        "y_pred = (y_pred > 0.5)\n",
        "\n",
        "# Making the Confusion Matrix\n",
        "from sklearn.metrics import confusion_matrix\n",
        "cm = confusion_matrix(y_test, y_pred)\n",
        "\n",
        "sns.heatmap(cm, annot=True)"
      ],
      "metadata": {
        "id": "GRQstP25mrSb"
      },
      "execution_count": null,
      "outputs": []
    },
    {
      "cell_type": "code",
      "source": [
        "y_pred = model.predict([[145.5, 59.85, 0.410, 597.8]])\n",
        "y_pred * 100"
      ],
      "metadata": {
        "colab": {
          "base_uri": "https://localhost:8080/"
        },
        "id": "F-7wsL9Zm-wq",
        "outputId": "f300d872-a3c0-457a-cecb-fa9ac1c39dc3"
      },
      "execution_count": null,
      "outputs": [
        {
          "output_type": "execute_result",
          "data": {
            "text/plain": [
              "array([[0.0972569]], dtype=float32)"
            ]
          },
          "metadata": {},
          "execution_count": 155
        }
      ]
    },
    {
      "cell_type": "markdown",
      "source": [
        "API"
      ],
      "metadata": {
        "id": "vZmJyths56tJ"
      }
    },
    {
      "cell_type": "code",
      "source": [
        "!pip install jinja2\n",
        "!pip install colabcode\n",
        "!pip install fastapi"
      ],
      "metadata": {
        "id": "bS5pwKLE5_FI"
      },
      "execution_count": null,
      "outputs": []
    },
    {
      "cell_type": "code",
      "source": [
        "from fastapi import FastAPI, Request\n",
        "from fastapi.templating import Jinja2Templates\n",
        "from fastapi.responses import HTMLResponse\n",
        "from fastapi.staticfiles import StaticFiles\n",
        "from pydantic import BaseModel\n",
        "import requests\n",
        "import pickle\n",
        "\n",
        "app = FastAPI()\n",
        "# templates = Jinja2Templates(directory=\"templates\")\n",
        "# app.mount(\"/static\", StaticFiles(directory=\"static\"), name=\"static\")\n",
        "\n",
        "\n",
        "with open(\"sequ_model.pkl\", \"rb\") as f:\n",
        "    prediction_model = pickle.load(f)\n",
        "\n",
        "\n",
        "# Home page\n",
        "# @app.get(\"/\", response_class=HTMLResponse)\n",
        "# async def Home(request: Request):\n",
        "#     return templates.TemplateResponse(\"detection_test.html\", {\"request\": request})\n",
        "    \n",
        "#data\n",
        "@app.get(\"/\")\n",
        "async def read_root():\n",
        "  return {\"message\": \"Breast Cancer detection using deep learning !!\"}\n",
        "\n",
        "\n",
        "class CancerPred(BaseModel):\n",
        "    perimeter_worst: float\n",
        "    texture_worst : float\n",
        "    area_worst : float\n",
        "    area_mean : float\n",
        "\n",
        "\n",
        "\n",
        "@app.post(\"/prediction/\")\n",
        "async def predict(preds: CancerPred):\n",
        "  pred = preds.dict()\n",
        "  perimeter_worst = pred['perimeter_worst']\n",
        "  texture_worst = pred['texture_worst']\n",
        "  area_worst = pred['area_worst']\n",
        "  area_mean = pred['area_mean']\n",
        "\n",
        "  pred_pr = prediction_model.predict([[perimeter_worst, texture_worst, area_worst, area_mean]]).tolist()[0]\n",
        "\n",
        "  return {'prediction': pred_pr}\n"
      ],
      "metadata": {
        "id": "m6_dzHu_6TyM"
      },
      "execution_count": null,
      "outputs": []
    },
    {
      "cell_type": "code",
      "source": [
        "cc.run_app(app=app)"
      ],
      "metadata": {
        "colab": {
          "base_uri": "https://localhost:8080/"
        },
        "id": "goE5C9RfKVor",
        "outputId": "0a191baa-6040-4e80-90d6-56645861581a"
      },
      "execution_count": null,
      "outputs": [
        {
          "output_type": "stream",
          "name": "stdout",
          "text": [
            "Public URL: NgrokTunnel: \"https://33d7-35-221-219-254.ngrok.io\" -> \"http://localhost:12000\"\n"
          ]
        },
        {
          "output_type": "stream",
          "name": "stderr",
          "text": [
            "INFO:     Started server process [61]\n",
            "INFO:     Waiting for application startup.\n",
            "INFO:     Application startup complete.\n",
            "INFO:     Uvicorn running on http://127.0.0.1:12000 (Press CTRL+C to quit)\n"
          ]
        },
        {
          "output_type": "stream",
          "name": "stdout",
          "text": [
            "INFO:     88.243.136.70:0 - \"GET / HTTP/1.1\" 200 OK\n",
            "INFO:     88.243.136.70:0 - \"GET /favicon.ico HTTP/1.1\" 404 Not Found\n",
            "INFO:     88.243.136.70:0 - \"GET /docs HTTP/1.1\" 200 OK\n",
            "INFO:     88.243.136.70:0 - \"GET /openapi.json HTTP/1.1\" 200 OK\n",
            "INFO:     88.243.136.70:0 - \"POST /prediction/ HTTP/1.1\" 200 OK\n"
          ]
        },
        {
          "output_type": "stream",
          "name": "stderr",
          "text": [
            "INFO:     Shutting down\n",
            "INFO:     Waiting for application shutdown.\n",
            "INFO:     Application shutdown complete.\n",
            "INFO:     Finished server process [61]\n"
          ]
        }
      ]
    }
  ]
}